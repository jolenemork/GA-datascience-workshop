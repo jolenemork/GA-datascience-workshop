{
 "cells": [
  {
   "cell_type": "markdown",
   "metadata": {},
   "source": [
    "# Python Warmup"
   ]
  },
  {
   "cell_type": "code",
   "execution_count": 1,
   "metadata": {
    "collapsed": false
   },
   "outputs": [],
   "source": [
    "names = ['John Lennon', 'Paul McCartney', 'George Harrison', 'Pete Best']"
   ]
  },
  {
   "cell_type": "markdown",
   "metadata": {},
   "source": [
    "<h1> Print all names with the letter 'a' </h1>"
   ]
  },
  {
   "cell_type": "code",
   "execution_count": 12,
   "metadata": {
    "collapsed": false
   },
   "outputs": [
    {
     "name": "stdout",
     "output_type": "stream",
     "text": [
      "George Harrison\n",
      "Paul McCartney\n",
      "-----\n",
      "['George Harrison', 'Paul McCartney']\n"
     ]
    }
   ],
   "source": [
    "for name in names:\n",
    "    if 'a' in name:\n",
    "        print name\n",
    "        \n",
    "print '-----'\n",
    "\n",
    "print [name for name in names if 'a' in name]"
   ]
  },
  {
   "cell_type": "markdown",
   "metadata": {},
   "source": [
    "#Make all strings lowercase"
   ]
  },
  {
   "cell_type": "code",
   "execution_count": 13,
   "metadata": {
    "collapsed": false
   },
   "outputs": [
    {
     "name": "stdout",
     "output_type": "stream",
     "text": [
      "['george harrison', 'john lennon', 'paul mccartney', 'pete best']\n",
      "------\n"
     ]
    },
    {
     "data": {
      "text/plain": [
       "['george harrison', 'john lennon', 'paul mccartney', 'pete best']"
      ]
     },
     "execution_count": 13,
     "metadata": {},
     "output_type": "execute_result"
    }
   ],
   "source": [
    "lowernames = []\n",
    "for name in names:\n",
    "    lowernames.append(name.lower())\n",
    "print lowernames\n",
    "\n",
    "print '------'\n",
    "\n",
    "[name.lower() for name in names]"
   ]
  },
  {
   "cell_type": "markdown",
   "metadata": {},
   "source": [
    "#Sort names alphabetically"
   ]
  },
  {
   "cell_type": "code",
   "execution_count": 9,
   "metadata": {
    "collapsed": false
   },
   "outputs": [
    {
     "name": "stdout",
     "output_type": "stream",
     "text": [
      "['George Harrison', 'John Lennon', 'Paul McCartney', 'Pete Best']\n"
     ]
    }
   ],
   "source": [
    "print sorted(names)"
   ]
  },
  {
   "cell_type": "markdown",
   "metadata": {},
   "source": [
    "#Sort names by length\n"
   ]
  },
  {
   "cell_type": "code",
   "execution_count": 11,
   "metadata": {
    "collapsed": false
   },
   "outputs": [
    {
     "name": "stdout",
     "output_type": "stream",
     "text": [
      "['Pete Best', 'John Lennon', 'Paul McCartney', 'George Harrison']\n"
     ]
    }
   ],
   "source": [
    "print sorted(names, key = len)"
   ]
  },
  {
   "cell_type": "markdown",
   "metadata": {},
   "source": [
    "#Remove all instances of the letter 'e'"
   ]
  },
  {
   "cell_type": "code",
   "execution_count": 15,
   "metadata": {
    "collapsed": false
   },
   "outputs": [
    {
     "name": "stdout",
     "output_type": "stream",
     "text": [
      "['Gorg Harrison', 'John Lnnon', 'Paul McCartny', 'Pt Bst']\n"
     ]
    }
   ],
   "source": [
    "print [name.replace('e','') for name in names]"
   ]
  },
  {
   "cell_type": "code",
   "execution_count": null,
   "metadata": {
    "collapsed": true
   },
   "outputs": [],
   "source": []
  }
 ],
 "metadata": {
  "kernelspec": {
   "display_name": "Python 2",
   "language": "python",
   "name": "python2"
  },
  "language_info": {
   "codemirror_mode": {
    "name": "ipython",
    "version": 2
   },
   "file_extension": ".py",
   "mimetype": "text/x-python",
   "name": "python",
   "nbconvert_exporter": "python",
   "pygments_lexer": "ipython2",
   "version": "2.7.11"
  }
 },
 "nbformat": 4,
 "nbformat_minor": 0
}
